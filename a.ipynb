{
 "cells": [
  {
   "cell_type": "code",
   "execution_count": 1,
   "metadata": {},
   "outputs": [],
   "source": [
    "import numpy as np\n",
    "import torch\n",
    "import torchvision.transforms as transforms\n",
    "from myDataset import MyDataset\n",
    "\n",
    "data = np.load(\"dataset/normal/data0.npy\")\n"
   ]
  },
  {
   "cell_type": "code",
   "execution_count": 2,
   "metadata": {},
   "outputs": [
    {
     "name": "stdout",
     "output_type": "stream",
     "text": [
      "bef torch.Size([1, 25, 3])\n",
      "tensor([[[-0.1508,  0.8312,  0.7466,  0.3535, -0.3489,  0.9714,  0.4099,\n",
      "          -0.8267,  1.0000, -1.0000, -1.1630, -1.5836,  0.9439, -1.4719,\n",
      "          -2.0055, -1.0000,  0.0451, -1.0000,  0.5787, -2.7351, -2.5945,\n",
      "          -1.9491, -1.0000, -1.0000, -1.5004],\n",
      "         [-3.0716, -2.3905, -2.4434, -1.6007, -1.6358, -2.3901, -1.3682,\n",
      "          -1.5108, -0.6321, -1.0000, -0.5605,  0.8744, -0.5247, -0.4171,\n",
      "           0.7841, -1.0000, -3.1432, -1.0000, -3.0535,  0.8024,  0.8739,\n",
      "           0.9282, -1.0000, -1.0000,  1.0000],\n",
      "         [ 0.6997,  0.2497,  0.0378, -0.3532,  0.3895,  0.5753,  0.4322,\n",
      "           0.6455, -0.3375, -0.6020,  0.0214,  0.2750, -0.1917,  0.2032,\n",
      "           0.1529, -0.7675,  0.7318, -1.0000,  0.7892,  0.1193,  0.1547,\n",
      "          -0.1494, -0.8617, -1.0000,  0.3447]]])\n",
      "bef torch.Size([1, 25, 3])\n",
      "torch.Size([1, 3, 25])\n"
     ]
    }
   ],
   "source": [
    "transforms_ = transforms.Compose([\n",
    "    transforms.ToTensor(),\n",
    "    transforms.Normalize([0.5], [0.5])\n",
    "    ])\n",
    "    \n",
    "def dataPreprocess(data):\n",
    "    center = (320, 240)\n",
    "    threshold = 0.2\n",
    "    # print(data.shape)\n",
    "    data = np.transpose(data)\n",
    "    print(\"ts\", data.shpae)\n",
    "    np.transpose(data)[0] = np.transpose(data)[0] - center[0]\n",
    "    np.transpose(data)[1] = np.transpose(data)[1] - center[1]\n",
    "\n",
    "    max = np.amax(data, axis=0)\n",
    "    # print(max)\n",
    "    np.transpose(data)[0] = np.transpose(data)[0]/max[0]\n",
    "    np.transpose(data)[1] = np.transpose(data)[1]/max[1]\n",
    "    for i, ele in enumerate(np.transpose(data)[2]):\n",
    "        if ele < threshold:\n",
    "            np.transpose(data)[0][i] = 0.0\n",
    "            np.transpose(data)[1][i] = 0.0\n",
    "    # print('+++++++++++++++++++++++++++')\n",
    "    # print(data)\n",
    "    data = transforms_(data)\n",
    "    print(\"bef\", data.shape)\n",
    "    data = torch.permute(data,(0, 2, 1))\n",
    "    return data\n",
    "\n",
    "\n",
    "print(dataPreprocess(data[6]))\n",
    "print(dataPreprocess(data[6]).shape)"
   ]
  },
  {
   "cell_type": "code",
   "execution_count": 14,
   "metadata": {},
   "outputs": [
    {
     "name": "stdout",
     "output_type": "stream",
     "text": [
      "normal\n",
      "bad_leg\n",
      "(7666, 3, 25)\n",
      "1.0 -1.0\n",
      "0\n"
     ]
    }
   ],
   "source": [
    "data_list = ['normal', 'bad_leg']\n",
    "mydataset = MyDataset(data_list, transform=transforms_)\n",
    "count = 0\n",
    "minV, maxV = 1.0, -1.0\n",
    "for i in range(len(mydataset)):\n",
    "    x, y = mydataset[i]\n",
    "    x = x.numpy()\n",
    "    mi = np.min(x)\n",
    "    ma = np.max(x)\n",
    "    if ma > 1.0:\n",
    "        count += 1\n",
    "    if mi < minV:\n",
    "        minV = mi\n",
    "    if ma > maxV:\n",
    "        maxV = ma\n",
    "        if maxV > 1.0:\n",
    "            print(i)\n",
    "            print(x)\n",
    "            print(x[0][0])\n",
    "\n",
    "        \n",
    "\n",
    "print(maxV, minV)\n",
    "print(count)"
   ]
  },
  {
   "cell_type": "code",
   "execution_count": 15,
   "metadata": {},
   "outputs": [
    {
     "name": "stdout",
     "output_type": "stream",
     "text": [
      "normal\n",
      "bad_leg\n",
      "(7666, 3, 25)\n"
     ]
    }
   ],
   "source": [
    "mydataset = MyDataset(data_list)\n",
    "x, y = mydataset[555]"
   ]
  },
  {
   "cell_type": "code",
   "execution_count": 16,
   "metadata": {},
   "outputs": [
    {
     "data": {
      "text/plain": [
       "array([[0.4689163 , 0.56013596, 0.578399  , 0.505412  , 0.4324508 ,\n",
       "        0.5418435 , 0.4911785 , 0.3939787 , 0.55809575, 0.5824109 ,\n",
       "        0.4162483 , 0.41215187, 0.5378203 , 0.3655737 , 0.3634839 ,\n",
       "        0.        , 0.4769666 , 0.        , 0.51551396, 0.2845197 ,\n",
       "        0.3006701 , 0.37770176, 0.37768713, 0.37977895, 0.4183195 ],\n",
       "       [0.19263831, 0.29111052, 0.2856396 , 0.40878046, 0.40597072,\n",
       "        0.2937678 , 0.4497916 , 0.42248893, 0.578454  , 0.5702458 ,\n",
       "        0.5565386 , 0.7781594 , 0.5839388 , 0.5811608 , 0.8219217 ,\n",
       "        0.        , 0.17894848, 0.        , 0.18168285, 0.8221005 ,\n",
       "        0.8383796 , 0.8412228 , 0.76725113, 0.7699336 , 0.8000073 ],\n",
       "       [0.7702527 , 0.65667665, 0.4607792 , 0.30980235, 0.4482065 ,\n",
       "        0.740574  , 0.7560461 , 0.8391278 , 0.4186608 , 0.31011203,\n",
       "        0.32257158, 0.7562249 , 0.43987882, 0.82445794, 0.75808424,\n",
       "        0.        , 0.8836112 , 0.        , 0.87498915, 0.59130263,\n",
       "        0.5671535 , 0.69084215, 0.11813373, 0.10817435, 0.64553285]],\n",
       "      dtype=float32)"
      ]
     },
     "execution_count": 16,
     "metadata": {},
     "output_type": "execute_result"
    }
   ],
   "source": [
    "x"
   ]
  },
  {
   "cell_type": "code",
   "execution_count": 12,
   "metadata": {},
   "outputs": [
    {
     "data": {
      "text/plain": [
       "5.0"
      ]
     },
     "execution_count": 12,
     "metadata": {},
     "output_type": "execute_result"
    }
   ],
   "source": [
    "np.max(x)"
   ]
  },
  {
   "cell_type": "code",
   "execution_count": 20,
   "metadata": {},
   "outputs": [
    {
     "data": {
      "text/plain": [
       "(3, 25)"
      ]
     },
     "execution_count": 20,
     "metadata": {},
     "output_type": "execute_result"
    }
   ],
   "source": [
    "x = np.zeros(( 3, 25))\n",
    "x.shape"
   ]
  },
  {
   "cell_type": "code",
   "execution_count": 21,
   "metadata": {},
   "outputs": [],
   "source": [
    "x[:][0] = 2\n",
    "x[:][1] = 5"
   ]
  },
  {
   "cell_type": "code",
   "execution_count": 22,
   "metadata": {},
   "outputs": [
    {
     "data": {
      "text/plain": [
       "array([[2., 2., 2., 2., 2., 2., 2., 2., 2., 2., 2., 2., 2., 2., 2., 2.,\n",
       "        2., 2., 2., 2., 2., 2., 2., 2., 2.],\n",
       "       [5., 5., 5., 5., 5., 5., 5., 5., 5., 5., 5., 5., 5., 5., 5., 5.,\n",
       "        5., 5., 5., 5., 5., 5., 5., 5., 5.],\n",
       "       [0., 0., 0., 0., 0., 0., 0., 0., 0., 0., 0., 0., 0., 0., 0., 0.,\n",
       "        0., 0., 0., 0., 0., 0., 0., 0., 0.]])"
      ]
     },
     "execution_count": 22,
     "metadata": {},
     "output_type": "execute_result"
    }
   ],
   "source": [
    "x"
   ]
  },
  {
   "cell_type": "code",
   "execution_count": null,
   "metadata": {},
   "outputs": [],
   "source": []
  }
 ],
 "metadata": {
  "kernelspec": {
   "display_name": "pytorch",
   "language": "python",
   "name": "python3"
  },
  "language_info": {
   "codemirror_mode": {
    "name": "ipython",
    "version": 3
   },
   "file_extension": ".py",
   "mimetype": "text/x-python",
   "name": "python",
   "nbconvert_exporter": "python",
   "pygments_lexer": "ipython3",
   "version": "3.9.7"
  },
  "orig_nbformat": 4,
  "vscode": {
   "interpreter": {
    "hash": "f6fcad6a3412416004381678102aae19ce844218c71a3c64228bdf8e6861de71"
   }
  }
 },
 "nbformat": 4,
 "nbformat_minor": 2
}
